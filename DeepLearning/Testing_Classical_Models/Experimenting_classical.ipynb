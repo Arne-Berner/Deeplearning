{
 "cells": [
  {
   "cell_type": "markdown",
   "metadata": {},
   "source": [
    "## Testing the Classical Models\n",
    "### Imports\n",
    "Durch Sklearn ist es sehr einfach verschiedene Module auf unser Datenset anzuwenden."
   ]
  },
  {
   "cell_type": "code",
   "execution_count": 6,
   "metadata": {},
   "outputs": [],
   "source": [
    "import numpy as np\n",
    "from sklearn.neighbors import NearestCentroid\n",
    "from sklearn.neighbors import KNeighborsClassifier\n",
    "from sklearn.naive_bayes import GaussianNB, MultinomialNB\n",
    "from sklearn.tree import DecisionTreeClassifier\n",
    "from sklearn.ensemble import RandomForestClassifier\n",
    "from sklearn.svm import SVC\n",
    "import sys"
   ]
  },
  {
   "cell_type": "markdown",
   "metadata": {},
   "source": []
  },
  {
   "cell_type": "code",
   "execution_count": 7,
   "metadata": {},
   "outputs": [],
   "source": [
    "def run(x_train, y_train, x_test, y_test, classifier):\n",
    "    classifier.fit(x_train, y_train)\n",
    "    return classifier.score(x_test, y_test)"
   ]
  },
  {
   "cell_type": "code",
   "execution_count": 8,
   "metadata": {},
   "outputs": [],
   "source": [
    "def split(x, y, currentFold, totalFold):\n",
    "    foldSize = int(y.shape[0]/totalFold)\n",
    "    folds = []\n",
    "    for i in range(totalFold):\n",
    "        folds.append([x[(foldSize * i):(foldSize * i + foldSize)],\n",
    "        y[(foldSize * i):(foldSize * i + foldSize)]])\n",
    "    x_test, y_test = folds[currentFold]\n",
    "    x_train = []\n",
    "    y_train = []\n",
    "    for i in range(totalFold):\n",
    "        if (i==currentFold):\n",
    "            continue\n",
    "        else:\n",
    "            a,b = folds[i]\n",
    "            x_train.append(a)\n",
    "            y_train.append(b)\n",
    "    x_train = np.array(x_train).reshape(((totalFold-1)*foldSize, 30))\n",
    "    y_train = np.array(y_train).reshape((totalFold-1)*foldSize)\n",
    "    return [x_train, y_train, x_test, y_test]"
   ]
  },
  {
   "cell_type": "code",
   "execution_count": 9,
   "metadata": {},
   "outputs": [],
   "source": [
    "def prettyPrint(splitData, fold, string):\n",
    "    labelShape = splitData.shape[1]\n",
    "    print(\"%-19s: \\nmean:%0.4f +/- std/sqrt(n):%0.4f \\n\" %(string,splitData[fold].mean(),\n",
    "        splitData[fold].std()/np.sqrt(labelShape)), end='')\n",
    "    for i in range(labelShape):\n",
    "        print(\"fold:%d score:%0.4f \" %(i,splitData[fold,i]), end='\\n')"
   ]
  },
  {
   "cell_type": "code",
   "execution_count": 10,
   "metadata": {},
   "outputs": [],
   "source": [
    "x = np.load(\"iris_features.npy\")\n",
    "y = np.load(\"iris_labels.npy\")\n",
    "N = 120\n",
    "x_train = x[:N]; x_test = x[N:]\n",
    "y_train = y[:N]; y_test = y[N:]\n",
    "xa_train = np.load(\"iris_train_features_augmented.npy\")\n",
    "ya_train = np.load(\"iris_train_labels_augmented.npy\")\n",
    "xa_test = np.load(\"iris_test_features_augmented.npy\")\n",
    "ya_test = np.load(\"iris_test_labels_augmented.npy\")\n",
    "\n",
    "featBC = np.load(\"bc_features_standard.npy\")\n",
    "labelBC = np.load(\"bc_labels.npy\")\n",
    "idx = np.argsort(np.random.random(labelBC.shape[0]))\n",
    "featBC = featBC[idx]\n",
    "labelBC = labelBC[idx]\n",
    "numberFolds = int(10)\n",
    "splitData = np.zeros((8,numberFolds))"
   ]
  },
  {
   "cell_type": "code",
   "execution_count": 11,
   "metadata": {},
   "outputs": [
    {
     "name": "stdout",
     "output_type": "stream",
     "text": [
      "Nearest Centroid:\n"
     ]
    },
    {
     "data": {
      "text/plain": [
       "0.9666666666666667"
      ]
     },
     "execution_count": 11,
     "metadata": {},
     "output_type": "execute_result"
    }
   ],
   "source": [
    "print(\"Nearest Centroid:\")\n",
    "run(x_train, y_train, x_test, y_test, NearestCentroid())"
   ]
  },
  {
   "cell_type": "code",
   "execution_count": 12,
   "metadata": {},
   "outputs": [
    {
     "name": "stdout",
     "output_type": "stream",
     "text": [
      "k-NN classifier (k=3):\n"
     ]
    },
    {
     "data": {
      "text/plain": [
       "0.9333333333333333"
      ]
     },
     "execution_count": 12,
     "metadata": {},
     "output_type": "execute_result"
    }
   ],
   "source": [
    "print(\"k-NN classifier (k=3):\")\n",
    "run(x_train, y_train, x_test, y_test,\n",
    "    KNeighborsClassifier(n_neighbors = 3))"
   ]
  },
  {
   "cell_type": "code",
   "execution_count": 13,
   "metadata": {},
   "outputs": [
    {
     "name": "stdout",
     "output_type": "stream",
     "text": [
      "Naive Bayes classifier (Gaussian):\n"
     ]
    },
    {
     "data": {
      "text/plain": [
       "0.9666666666666667"
      ]
     },
     "execution_count": 13,
     "metadata": {},
     "output_type": "execute_result"
    }
   ],
   "source": [
    "print(\"Naive Bayes classifier (Gaussian):\")\n",
    "run(x_train, y_train, x_test, y_test, GaussianNB())"
   ]
  },
  {
   "cell_type": "code",
   "execution_count": 14,
   "metadata": {},
   "outputs": [
    {
     "name": "stdout",
     "output_type": "stream",
     "text": [
      "Naive Bayes classifier (Multinomial):\n"
     ]
    },
    {
     "data": {
      "text/plain": [
       "0.9666666666666667"
      ]
     },
     "execution_count": 14,
     "metadata": {},
     "output_type": "execute_result"
    }
   ],
   "source": [
    "print(\"Naive Bayes classifier (Multinomial):\")\n",
    "run(x_train, y_train, x_test, y_test, MultinomialNB())"
   ]
  },
  {
   "cell_type": "code",
   "execution_count": 15,
   "metadata": {},
   "outputs": [
    {
     "name": "stdout",
     "output_type": "stream",
     "text": [
      "Decision Tree classifier:\n"
     ]
    },
    {
     "data": {
      "text/plain": [
       "0.9666666666666667"
      ]
     },
     "execution_count": 15,
     "metadata": {},
     "output_type": "execute_result"
    }
   ],
   "source": [
    "print(\"Decision Tree classifier:\")\n",
    "run(x_train, y_train, x_test, y_test, DecisionTreeClassifier())"
   ]
  },
  {
   "cell_type": "code",
   "execution_count": 16,
   "metadata": {},
   "outputs": [
    {
     "name": "stdout",
     "output_type": "stream",
     "text": [
      "Random Forest classifier (estimators = 5):\n"
     ]
    },
    {
     "data": {
      "text/plain": [
       "0.9666666666666667"
      ]
     },
     "execution_count": 16,
     "metadata": {},
     "output_type": "execute_result"
    }
   ],
   "source": [
    "print(\"Random Forest classifier (estimators = 5):\")\n",
    "run(xa_train, ya_train, xa_test, ya_test,\n",
    "    RandomForestClassifier(n_estimators=5))"
   ]
  },
  {
   "cell_type": "code",
   "execution_count": 17,
   "metadata": {},
   "outputs": [
    {
     "name": "stdout",
     "output_type": "stream",
     "text": [
      "SVM (linear, C=1.0):\n"
     ]
    },
    {
     "data": {
      "text/plain": [
       "0.9333333333333333"
      ]
     },
     "execution_count": 17,
     "metadata": {},
     "output_type": "execute_result"
    }
   ],
   "source": [
    "print(\"SVM (linear, C=1.0):\")\n",
    "run(xa_train, ya_train, xa_test, ya_test, SVC(kernel=\"linear\", C=1.0))"
   ]
  },
  {
   "cell_type": "code",
   "execution_count": 18,
   "metadata": {},
   "outputs": [
    {
     "name": "stdout",
     "output_type": "stream",
     "text": [
      "SVM (RBF, C=1.0, gamma=0.25):\n"
     ]
    },
    {
     "data": {
      "text/plain": [
       "0.9666666666666667"
      ]
     },
     "execution_count": 18,
     "metadata": {},
     "output_type": "execute_result"
    }
   ],
   "source": [
    "print(\"SVM (RBF, C=1.0, gamma=0.25):\")\n",
    "run(xa_train, ya_train, xa_test, ya_test,\n",
    "    SVC(kernel = \"rbf\", C=1.0, gamma = 0.25))"
   ]
  },
  {
   "cell_type": "code",
   "execution_count": 19,
   "metadata": {},
   "outputs": [
    {
     "name": "stdout",
     "output_type": "stream",
     "text": [
      "SVM (RBF, C = 1.0, gamma = 0.0001, augmented)\n"
     ]
    },
    {
     "data": {
      "text/plain": [
       "0.9333333333333333"
      ]
     },
     "execution_count": 19,
     "metadata": {},
     "output_type": "execute_result"
    }
   ],
   "source": [
    "print(\"SVM (RBF, C = 1.0, gamma = 0.0001, augmented)\")\n",
    "run(xa_train, ya_train, xa_test, ya_test,\n",
    "    SVC(kernel=\"rbf\", C = 1.0, gamma = 0.001))"
   ]
  },
  {
   "cell_type": "code",
   "execution_count": 20,
   "metadata": {},
   "outputs": [
    {
     "name": "stdout",
     "output_type": "stream",
     "text": [
      "SVM (RBF, C = 1.0, gamma = 0.0001, original)\n"
     ]
    },
    {
     "data": {
      "text/plain": [
       "0.6"
      ]
     },
     "execution_count": 20,
     "metadata": {},
     "output_type": "execute_result"
    }
   ],
   "source": [
    "print(\"SVM (RBF, C = 1.0, gamma = 0.0001, original)\")\n",
    "run(x_train, y_train, x_test, y_test,\n",
    "    SVC(kernel=\"rbf\", C = 1.0, gamma = 0.001))"
   ]
  },
  {
   "cell_type": "markdown",
   "metadata": {},
   "source": [
    "### BreastCancer Fold Method"
   ]
  },
  {
   "cell_type": "code",
   "execution_count": 21,
   "metadata": {},
   "outputs": [],
   "source": [
    "for currentFold in range(numberFolds):\n",
    "    x_train, y_train, x_test, y_test = split(featBC,\n",
    "        labelBC, currentFold, numberFolds)\n",
    "    splitData[0, currentFold] = run(x_train, y_train,\n",
    "        x_test, y_test, NearestCentroid())\n",
    "    splitData[1, currentFold] = run(x_train, y_train,\n",
    "        x_test, y_test, KNeighborsClassifier(n_neighbors = 3))\n",
    "    splitData[2, currentFold] = run(x_train, y_train,\n",
    "        x_test, y_test, KNeighborsClassifier(n_neighbors = 5))\n",
    "    splitData[3, currentFold] = run(x_train, y_train,\n",
    "        x_test, y_test, GaussianNB())\n",
    "    splitData[4, currentFold] = run(x_train, y_train,\n",
    "        x_test, y_test, DecisionTreeClassifier())\n",
    "    splitData[5, currentFold] = run(x_train, y_train,\n",
    "        x_test, y_test, RandomForestClassifier(n_estimators=5))\n",
    "    splitData[6, currentFold] = run(x_train, y_train,\n",
    "        x_test, y_test, RandomForestClassifier(n_estimators=50))\n",
    "    splitData[7, currentFold] = run(x_train, y_train,\n",
    "        x_test, y_test, SVC(kernel=\"linear\", C=1.0))"
   ]
  },
  {
   "cell_type": "code",
   "execution_count": 22,
   "metadata": {},
   "outputs": [
    {
     "name": "stdout",
     "output_type": "stream",
     "text": [
      "Nearest            : \n",
      "mean:0.9286 +/- std/sqrt(n):0.0101 \n",
      "fold:0 score:0.9464 \n",
      "fold:1 score:0.8750 \n",
      "fold:2 score:0.9643 \n",
      "fold:3 score:0.9107 \n",
      "fold:4 score:0.9464 \n",
      "fold:5 score:0.9464 \n",
      "fold:6 score:0.9464 \n",
      "fold:7 score:0.9643 \n",
      "fold:8 score:0.9107 \n",
      "fold:9 score:0.8750 \n",
      "3-KNeighbors       : \n",
      "mean:0.9643 +/- std/sqrt(n):0.0071 \n",
      "fold:0 score:0.9464 \n",
      "fold:1 score:0.9821 \n",
      "fold:2 score:1.0000 \n",
      "fold:3 score:0.9821 \n",
      "fold:4 score:0.9643 \n",
      "fold:5 score:0.9286 \n",
      "fold:6 score:0.9821 \n",
      "fold:7 score:0.9643 \n",
      "fold:8 score:0.9643 \n",
      "fold:9 score:0.9286 \n",
      "7-KNeighbors       : \n",
      "mean:0.9625 +/- std/sqrt(n):0.0059 \n",
      "fold:0 score:0.9643 \n",
      "fold:1 score:0.9821 \n",
      "fold:2 score:0.9821 \n",
      "fold:3 score:0.9821 \n",
      "fold:4 score:0.9821 \n",
      "fold:5 score:0.9464 \n",
      "fold:6 score:0.9464 \n",
      "fold:7 score:0.9643 \n",
      "fold:8 score:0.9286 \n",
      "fold:9 score:0.9464 \n",
      "Naive Bayes        : \n",
      "mean:0.9321 +/- std/sqrt(n):0.0104 \n",
      "fold:0 score:0.9464 \n",
      "fold:1 score:0.9107 \n",
      "fold:2 score:0.9286 \n",
      "fold:3 score:0.9464 \n",
      "fold:4 score:0.9643 \n",
      "fold:5 score:0.9643 \n",
      "fold:6 score:0.9464 \n",
      "fold:7 score:0.9643 \n",
      "fold:8 score:0.8750 \n",
      "fold:9 score:0.8750 \n",
      "Decision Tree      : \n",
      "mean:0.9179 +/- std/sqrt(n):0.0095 \n",
      "fold:0 score:0.9286 \n",
      "fold:1 score:0.8929 \n",
      "fold:2 score:0.9286 \n",
      "fold:3 score:0.9286 \n",
      "fold:4 score:0.9464 \n",
      "fold:5 score:0.9286 \n",
      "fold:6 score:0.8393 \n",
      "fold:7 score:0.9464 \n",
      "fold:8 score:0.9286 \n",
      "fold:9 score:0.9107 \n",
      "Random Forest(5)   : \n",
      "mean:0.9393 +/- std/sqrt(n):0.0081 \n",
      "fold:0 score:0.9464 \n",
      "fold:1 score:0.9643 \n",
      "fold:2 score:0.9464 \n",
      "fold:3 score:0.9821 \n",
      "fold:4 score:0.9464 \n",
      "fold:5 score:0.9107 \n",
      "fold:6 score:0.9464 \n",
      "fold:7 score:0.9464 \n",
      "fold:8 score:0.9107 \n",
      "fold:9 score:0.8929 \n",
      "Random Forest(5)   : \n",
      "mean:0.9643 +/- std/sqrt(n):0.0056 \n",
      "fold:0 score:0.9643 \n",
      "fold:1 score:0.9821 \n",
      "fold:2 score:0.9821 \n",
      "fold:3 score:0.9286 \n",
      "fold:4 score:0.9821 \n",
      "fold:5 score:0.9643 \n",
      "fold:6 score:0.9643 \n",
      "fold:7 score:0.9821 \n",
      "fold:8 score:0.9464 \n",
      "fold:9 score:0.9464 \n",
      "SVM (linear)       : \n",
      "mean:0.9714 +/- std/sqrt(n):0.0045 \n",
      "fold:0 score:0.9821 \n",
      "fold:1 score:0.9643 \n",
      "fold:2 score:0.9821 \n",
      "fold:3 score:0.9643 \n",
      "fold:4 score:1.0000 \n",
      "fold:5 score:0.9643 \n",
      "fold:6 score:0.9464 \n",
      "fold:7 score:0.9643 \n",
      "fold:8 score:0.9821 \n",
      "fold:9 score:0.9643 \n"
     ]
    }
   ],
   "source": [
    "prettyPrint(splitData, 0, \"Nearest\");\n",
    "prettyPrint(splitData, 1, \"3-KNeighbors\");\n",
    "prettyPrint(splitData, 2, \"7-KNeighbors\");\n",
    "prettyPrint(splitData, 3, \"Naive Bayes\");\n",
    "prettyPrint(splitData, 4, \"Decision Tree\");\n",
    "prettyPrint(splitData, 5, \"Random Forest(5)\");\n",
    "prettyPrint(splitData, 6, \"Random Forest(5)\");\n",
    "prettyPrint(splitData, 7, \"SVM (linear)\");"
   ]
  }
 ],
 "metadata": {
  "interpreter": {
   "hash": "954dccb827d9d98fab9d6ab8aad07d294372f56b78c45815942292b1b2f720a0"
  },
  "kernelspec": {
   "display_name": "Python 3.8.8 64-bit ('base': conda)",
   "language": "python",
   "name": "python3"
  },
  "language_info": {
   "codemirror_mode": {
    "name": "ipython",
    "version": 3
   },
   "file_extension": ".py",
   "mimetype": "text/x-python",
   "name": "python",
   "nbconvert_exporter": "python",
   "pygments_lexer": "ipython3",
   "version": "3.8.8"
  },
  "orig_nbformat": 4
 },
 "nbformat": 4,
 "nbformat_minor": 2
}
