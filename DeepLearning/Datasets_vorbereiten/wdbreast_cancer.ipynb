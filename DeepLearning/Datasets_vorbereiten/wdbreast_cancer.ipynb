{
 "cells": [
  {
   "cell_type": "code",
   "execution_count": 21,
   "metadata": {},
   "outputs": [],
   "source": [
    "import numpy as np\n",
    "from sklearn import decomposition\n",
    "\n",
    "def generateData(pca, features, startIndex):\n",
    "    original = pca.components_.copy()\n",
    "    numberPrincipleComponents = pca.components_.shape[0]\n",
    "    before = pca.transform(features)\n",
    "    for i in range(startIndex, numberPrincipleComponents):\n",
    "        pca.components_[i,:] += np.random.normal(scale = 0.1, size = numberPrincipleComponents)\n",
    "    after = pca.inverse_transform(before)\n",
    "    pca.components_ = original.copy()\n",
    "    return after"
   ]
  },
  {
   "cell_type": "code",
   "execution_count": 22,
   "metadata": {},
   "outputs": [
    {
     "name": "stdout",
     "output_type": "stream",
     "text": [
      "569\n"
     ]
    }
   ],
   "source": [
    "x = np.load(\"bc_features.npy\")\n",
    "y = np.load(\"bc_labels.npy\")\n",
    "print(y.size)"
   ]
  },
  {
   "cell_type": "code",
   "execution_count": 30,
   "metadata": {},
   "outputs": [
    {
     "name": "stdout",
     "output_type": "stream",
     "text": [
      "[9.82044672e-01 1.61764899e-02 1.55751075e-03 1.20931964e-04\n",
      " 8.82724536e-05 6.64883951e-06 4.01713682e-06 8.22017197e-07\n",
      " 3.44135279e-07 1.86018721e-07 6.99473205e-08 1.65908880e-08\n",
      " 6.99641650e-09 4.78318306e-09 2.93549214e-09 1.41684927e-09\n",
      " 8.29577731e-10 5.20405883e-10 4.08463983e-10 3.63313378e-10\n",
      " 1.72849737e-10 1.27487508e-10 7.72682973e-11 6.28357718e-11\n",
      " 3.57302295e-11 2.76396041e-11 8.14452259e-12 6.30211541e-12\n",
      " 4.43666945e-12 1.55344680e-12]\n"
     ]
    }
   ],
   "source": [
    "N = 500\n",
    "x_train = x[:N]\n",
    "y_train = y[:N]\n",
    "x_test = x[N:]\n",
    "y_test = y[N:]\n",
    "pca = decomposition.PCA(n_components = 30)\n",
    "pca.fit(x)\n",
    "print(pca.explained_variance_ratio_)"
   ]
  },
  {
   "cell_type": "code",
   "execution_count": 31,
   "metadata": {},
   "outputs": [],
   "source": [
    "start = 1 #2.\n",
    "numberSets = 10 #3.\n",
    "numberSamples = x_train.shape[0]\n",
    "newx = np.zeros((numberSets*numberSamples, x_train.shape[1]))\n",
    "newy = np.zeros(numberSets * numberSamples, dtype = \"uint32\")"
   ]
  },
  {
   "cell_type": "code",
   "execution_count": 32,
   "metadata": {},
   "outputs": [],
   "source": [
    "for i in range(numberSets):\n",
    "    if (i == 0):\n",
    "        newx[0:numberSamples,:] = x_train\n",
    "        newy[0:numberSamples] = y_train\n",
    "    else:\n",
    "        newx[(i*numberSamples):(i*numberSamples+numberSamples),:] = \\\n",
    "            generateData(pca, x_train, start)\n",
    "        newy[(i*numberSamples):(i*numberSamples+numberSamples)] = y_train"
   ]
  },
  {
   "cell_type": "code",
   "execution_count": 38,
   "metadata": {},
   "outputs": [
    {
     "name": "stdout",
     "output_type": "stream",
     "text": [
      "5000\n"
     ]
    }
   ],
   "source": [
    "idx = np.argsort(np.random.random(numberSets*numberSamples))\n",
    "newx = newx[idx]\n",
    "newy = newy[idx]\n",
    "print(newy.size)"
   ]
  },
  {
   "cell_type": "code",
   "execution_count": 36,
   "metadata": {},
   "outputs": [],
   "source": [
    "np.save(\"wdbc_train_features_augmented.npy\", newx)\n",
    "np.save(\"wdbc_train_labels_augmented.npy\", newy)\n",
    "np.save(\"wdbc_test_features_augmented.npy\", x_test)\n",
    "np.save(\"wdbc_test_labels_augmented.npy\", y_test)"
   ]
  }
 ],
 "metadata": {
  "interpreter": {
   "hash": "954dccb827d9d98fab9d6ab8aad07d294372f56b78c45815942292b1b2f720a0"
  },
  "kernelspec": {
   "display_name": "Python 3.8.8 64-bit ('base': conda)",
   "language": "python",
   "name": "python3"
  },
  "language_info": {
   "codemirror_mode": {
    "name": "ipython",
    "version": 3
   },
   "file_extension": ".py",
   "mimetype": "text/x-python",
   "name": "python",
   "nbconvert_exporter": "python",
   "pygments_lexer": "ipython3",
   "version": "3.8.8"
  },
  "orig_nbformat": 4
 },
 "nbformat": 4,
 "nbformat_minor": 2
}
