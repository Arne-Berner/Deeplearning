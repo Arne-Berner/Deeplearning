{
 "cells": [
  {
   "cell_type": "markdown",
   "metadata": {},
   "source": [
    "## First neural Network\n",
    "### Creating a Dataset with 2 Classes"
   ]
  },
  {
   "cell_type": "code",
   "execution_count": 1,
   "metadata": {},
   "outputs": [],
   "source": [
    "import numpy as np\n",
    "features = np.load(\"iris_train_features_augmented.npy\")\n",
    "labels = np.load(\"iris_train_labels_augmented.npy\")\n",
    "feature1 = features[np.where(labels==1)]\n",
    "feature2 = features[np.where(labels==2)]\n",
    "a = len(feature1)\n",
    "b = len(feature2)\n",
    "features = np.zeros((a+b, 2))\n",
    "features[:a,:] = feature1[:,2:]\n",
    "features[a:,:] = feature2[:,2:]\n",
    "labels = np.array([0]*a+[1]*b)\n",
    "index = np.argsort(np.random.random(a+b))\n",
    "features = features[index]\n",
    "labels = labels[index]\n",
    "np.save(\"iris2_train_features.npy\", features)\n",
    "np.save(\"iris2_train_labels.npy\", labels)"
   ]
  },
  {
   "cell_type": "code",
   "execution_count": 2,
   "metadata": {},
   "outputs": [],
   "source": [
    "import numpy as np\n",
    "features = np.load(\"iris_test_features_augmented.npy\")\n",
    "labels = np.load(\"iris_test_labels_augmented.npy\")\n",
    "feature1 = features[np.where(labels==1)]\n",
    "feature2 = features[np.where(labels==2)]\n",
    "a = len(feature1)\n",
    "b = len(feature2)\n",
    "features = np.zeros((a+b, 2))\n",
    "features[:a,:] = feature1[:,2:]\n",
    "features[a:,:] = feature2[:,2:]\n",
    "labels = np.array([0]*a+[1]*b)\n",
    "index = np.argsort(np.random.random(a+b))\n",
    "features = features[index]\n",
    "labels = labels[index]\n",
    "np.save(\"iris2_test_features.npy\", features)\n",
    "np.save(\"iris2_test_labels.npy\", labels)"
   ]
  },
  {
   "cell_type": "markdown",
   "metadata": {},
   "source": [
    "### Implementing the Neural Network"
   ]
  },
  {
   "cell_type": "code",
   "execution_count": 4,
   "metadata": {},
   "outputs": [],
   "source": [
    "import numpy as np\n",
    "import pickle\n",
    "import sys\n",
    "\n",
    "def sigmoid(x):\n",
    "    return 1.0/ (1.0 + np.exp(-x))\n",
    "\n",
    "def evaluate(features, labels, weights):\n",
    "    weighti1, bias1, weight12, bias2, weight2o, bias3 = weights\n",
    "    numberCorrect = numberWrong = 0\n",
    "    probability = np.zeros(len(labels))\n",
    "    for i in range(len(labels)):\n",
    "        activation1 = sigmoid(np.dot(features[i], weighti1) + bias1)\n",
    "        activation2 = sigmoid(np.dot(activation1, weight12) + bias2)\n",
    "        probability[i] = sigmoid(np.dot(activation2, weight2o) + bias3)\n",
    "        if probability < 0.5:\n",
    "            classLabel = 0\n",
    "        else:\n",
    "            classLabel = 1\n",
    "        if (classLabel == labels[i]):\n",
    "            numberCorrect += 1\n",
    "        else:\n",
    "            numberWrong += 1\n",
    "    return [float(numberCorrect) / float(numberCorrect + numberWrong), probability]"
   ]
  },
  {
   "cell_type": "code",
   "execution_count": 6,
   "metadata": {},
   "outputs": [
    {
     "ename": "FileNotFoundError",
     "evalue": "[Errno 2] No such file or directory: 'iris2_weights.pkl'",
     "output_type": "error",
     "traceback": [
      "\u001b[0;31m---------------------------------------------------------------------------\u001b[0m",
      "\u001b[0;31mFileNotFoundError\u001b[0m                         Traceback (most recent call last)",
      "\u001b[0;32m<ipython-input-6-2bda65a229d9>\u001b[0m in \u001b[0;36m<module>\u001b[0;34m\u001b[0m\n\u001b[1;32m      1\u001b[0m \u001b[0mfeaturesTest\u001b[0m \u001b[0;34m=\u001b[0m \u001b[0mnp\u001b[0m\u001b[0;34m.\u001b[0m\u001b[0mload\u001b[0m\u001b[0;34m(\u001b[0m\u001b[0;34m\"iris2_test_features.npy\"\u001b[0m\u001b[0;34m)\u001b[0m\u001b[0;34m\u001b[0m\u001b[0;34m\u001b[0m\u001b[0m\n\u001b[1;32m      2\u001b[0m \u001b[0mlabelsTest\u001b[0m \u001b[0;34m=\u001b[0m \u001b[0mnp\u001b[0m\u001b[0;34m.\u001b[0m\u001b[0mload\u001b[0m\u001b[0;34m(\u001b[0m\u001b[0;34m\"iris2_test_labels.npy\"\u001b[0m\u001b[0;34m)\u001b[0m\u001b[0;34m\u001b[0m\u001b[0;34m\u001b[0m\u001b[0m\n\u001b[0;32m----> 3\u001b[0;31m \u001b[0mweights\u001b[0m \u001b[0;34m=\u001b[0m \u001b[0mpickle\u001b[0m\u001b[0;34m.\u001b[0m\u001b[0mload\u001b[0m\u001b[0;34m(\u001b[0m\u001b[0mopen\u001b[0m\u001b[0;34m(\u001b[0m\u001b[0;34m\"iris2_weights.pkl\"\u001b[0m\u001b[0;34m,\u001b[0m \u001b[0;34m\"rb\"\u001b[0m\u001b[0;34m)\u001b[0m\u001b[0;34m)\u001b[0m\u001b[0;34m\u001b[0m\u001b[0;34m\u001b[0m\u001b[0m\n\u001b[0m\u001b[1;32m      4\u001b[0m \u001b[0mscore\u001b[0m\u001b[0;34m,\u001b[0m \u001b[0mprobability\u001b[0m \u001b[0;34m=\u001b[0m \u001b[0mevaluate\u001b[0m\u001b[0;34m(\u001b[0m\u001b[0mfeaturesTest\u001b[0m\u001b[0;34m,\u001b[0m \u001b[0mlabelsTest\u001b[0m\u001b[0;34m,\u001b[0m \u001b[0mweights\u001b[0m\u001b[0;34m)\u001b[0m\u001b[0;34m\u001b[0m\u001b[0;34m\u001b[0m\u001b[0m\n\u001b[1;32m      5\u001b[0m \u001b[0mprint\u001b[0m\u001b[0;34m(\u001b[0m\u001b[0;34m)\u001b[0m\u001b[0;34m\u001b[0m\u001b[0;34m\u001b[0m\u001b[0m\n",
      "\u001b[0;31mFileNotFoundError\u001b[0m: [Errno 2] No such file or directory: 'iris2_weights.pkl'"
     ]
    }
   ],
   "source": [
    "featuresTest = np.load(\"iris2_test_features.npy\")\n",
    "labelsTest = np.load(\"iris2_test_labels.npy\")\n",
    "weights = pickle.load(open(\"iris2_weights.pkl\", \"rb\"))\n",
    "score, probability = evaluate(featuresTest, labelsTest, weights)\n",
    "print()\n",
    "for i in range(len(probability)):\n",
    "    print(\"%3d: actual: %d predict: %d prob: %0.7f\" %\n",
    "    (i, labelsTest[i], 0 if (probability[i] < 0.5) else 1, probability[i]))\n",
    "print(\"Score = %0.4f\" % score)"
   ]
  }
 ],
 "metadata": {
  "interpreter": {
   "hash": "954dccb827d9d98fab9d6ab8aad07d294372f56b78c45815942292b1b2f720a0"
  },
  "kernelspec": {
   "display_name": "Python 3.8.8 64-bit ('base': conda)",
   "language": "python",
   "name": "python3"
  },
  "language_info": {
   "codemirror_mode": {
    "name": "ipython",
    "version": 3
   },
   "file_extension": ".py",
   "mimetype": "text/x-python",
   "name": "python",
   "nbconvert_exporter": "python",
   "pygments_lexer": "ipython3",
   "version": "3.8.8"
  },
  "orig_nbformat": 4
 },
 "nbformat": 4,
 "nbformat_minor": 2
}
