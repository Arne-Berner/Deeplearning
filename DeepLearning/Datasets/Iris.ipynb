{
 "cells": [
  {
   "cell_type": "markdown",
   "metadata": {},
   "source": [
    "## Datasets vorbereiten: _Iris Dataset_\n",
    "### Randomizen des Iris Datasets\n",
    "Liest die Daten von Iris ein, ohne den Zeilenumbruch am Ende."
   ]
  },
  {
   "cell_type": "code",
   "execution_count": 27,
   "metadata": {},
   "outputs": [],
   "source": [
    "import numpy as np\n",
    "\n",
    "with open(\"iris.data\") as file:\n",
    "    lines = [i[:-1] for i in file.readlines()] "
   ]
  },
  {
   "cell_type": "markdown",
   "metadata": {},
   "source": [
    "Es wird ein Label Vektor für das Datenset erstellt."
   ]
  },
  {
   "cell_type": "code",
   "execution_count": 28,
   "metadata": {},
   "outputs": [],
   "source": [
    "labelVector = [\"Iris-setosa\", \"Iris-versicolor\", \"Iris-virginica\"]\n",
    "# sucht nach dem letzten wort in lines pro Reihe und nimmt das im Bezug auf label als Zahl(index)\n",
    "labels = [labelVector.index(i.split(\",\")[-1]) for i in lines if i!= \"\"]\n",
    "# spart hier daten, da der Vektor sehr klein ist\n",
    "labels = np.array(labels, dtype = \"uint8\")"
   ]
  },
  {
   "cell_type": "markdown",
   "metadata": {},
   "source": [
    "Erstellt ein array aus den Werten des Datensets"
   ]
  },
  {
   "cell_type": "code",
   "execution_count": 29,
   "metadata": {},
   "outputs": [],
   "source": [
    "features = [[float(j) for j in i.split(\",\")[:-1]] for i in lines if i!=\"\"]\n",
    "features = np.array(features)"
   ]
  },
  {
   "cell_type": "markdown",
   "metadata": {},
   "source": [
    "Durchmischen der Reihenfolge"
   ]
  },
  {
   "cell_type": "code",
   "execution_count": 30,
   "metadata": {},
   "outputs": [],
   "source": [
    "i = np.argsort(np.random.random(features.shape[0]))\n",
    "labels = labels[i]\n",
    "features = features[i]"
   ]
  },
  {
   "cell_type": "code",
   "execution_count": 31,
   "metadata": {},
   "outputs": [],
   "source": [
    "np.save(\"iris_features.npy\", features)\n",
    "np.save(\"iris_labels.npy\", labels)"
   ]
  },
  {
   "cell_type": "markdown",
   "metadata": {},
   "source": [
    "## _Brustkrebs Dataset_\n",
    "### Einlesen des Datensets"
   ]
  },
  {
   "cell_type": "code",
   "execution_count": 2,
   "metadata": {},
   "outputs": [],
   "source": [
    "import numpy as np\n",
    "import matplotlib.pyplot as plt\n",
    "\n",
    "with open(\"wdbc.data\") as file:\n",
    "    lines = [i[:-1] for i in file.readlines() if i!=\"\"]"
   ]
  },
  {
   "cell_type": "markdown",
   "metadata": {},
   "source": [
    "### Konvertieren des Datensets in Label und Features"
   ]
  },
  {
   "cell_type": "code",
   "execution_count": 13,
   "metadata": {},
   "outputs": [],
   "source": [
    "labelVector = [\"B\", \"M\"]\n",
    "labels = np.array([labelVector.index(i.split(\",\")[1]) for i in lines], dtype = \"uint8\")\n",
    "features = np.array([[float(j) for j in i.split(\",\")[2:]] for i in lines])\n",
    "randomIndex = np.argsort(np.random.random(labels.shape[0]))\n",
    "labels = labels[randomIndex]\n",
    "features = features[randomIndex]\n",
    "standardizedFeatures = (features - features.mean(axis = 0)) / features.std(axis = 0)"
   ]
  },
  {
   "cell_type": "markdown",
   "metadata": {},
   "source": [
    "### Speichern der Label und Features und plotten von z"
   ]
  },
  {
   "cell_type": "code",
   "execution_count": 14,
   "metadata": {},
   "outputs": [
    {
     "data": {
      "image/png": "[encoded data removed]",
      "text/plain": [
       "<Figure size 432x288 with 1 Axes>"
      ]
     },
     "metadata": {
      "needs_background": "light"
     },
     "output_type": "display_data"
    }
   ],
   "source": [
    "np.save(\"bc_features.npy\", features)\n",
    "np.save(\"bc_features_standard.npy\", standardizedFeatures)\n",
    "np.save(\"bc_labels.npy\", labels)\n",
    "plt.boxplot(standardizedFeatures)\n",
    "plt.show()"
   ]
  },
  {
   "cell_type": "markdown",
   "metadata": {},
   "source": [
    "## _MNIST Digits Dataset_\n",
    "Diesmal wird das set direkt aus Keras geladen und ist somit schonmal richtig formatiert. Danach geht es weiter wie oben."
   ]
  },
  {
   "cell_type": "code",
   "execution_count": 17,
   "metadata": {},
   "outputs": [],
   "source": [
    "import numpy as np\n",
    "import keras\n",
    "from keras.datasets import mnist\n",
    "\n",
    "(featuresTraining, labelsTraining), (featuresTest, labelsTest) \\\n",
    "    = mnist.load_data()\n",
    "rdmIndex = np.argsort(np.random.random(labelsTraining.shape[0]))\n",
    "featuresTraining = featuresTraining[rdmIndex]\n",
    "labelsTraining = labelsTraining[rdmIndex]\n",
    "rdmIndexTest = np.argsort(np.random.random(labelsTest.shape[0]))\n",
    "featuresTest = featuresTest[rdmIndexTest]\n",
    "labelsTest = labelsTest[rdmIndexTest]\n"
   ]
  },
  {
   "cell_type": "code",
   "execution_count": 19,
   "metadata": {},
   "outputs": [],
   "source": [
    "np.save(\"mnist_train_images.npy\", featuresTraining)\n",
    "np.save(\"mnist_train_labels.npy\", labelsTraining)\n",
    "np.save(\"mnist_test_images.npy\", featuresTest)\n",
    "np.save(\"mnist_test_labels.npy\", labelsTest)"
   ]
  },
  {
   "cell_type": "markdown",
   "metadata": {},
   "source": [
    "Die Sets werden in Vektoren umgewandelt und gespeichert. (für spätere Zwecke)"
   ]
  },
  {
   "cell_type": "code",
   "execution_count": 23,
   "metadata": {},
   "outputs": [],
   "source": [
    "featTrainingVector = featuresTraining.reshape((60000,28*28))\n",
    "featTestVector = featuresTest.reshape((10000, 28*28))\n",
    "np.save(\"mnist_train_vectors.npy\", featTrainingVector)\n",
    "np.save(\"mnist_test_vectors.npy\", featTestVector)"
   ]
  },
  {
   "cell_type": "code",
   "execution_count": 26,
   "metadata": {},
   "outputs": [],
   "source": [
    "rdmIndex = np.argsort(np.random.random(28*28))\n",
    "for i in range(60000):\n",
    "    featTrainingVector[i,:] = featTrainingVector[i,rdmIndex]\n",
    "for i in range(10000):\n",
    "    featTestVector[i,:] = featTestVector[i,rdmIndex]\n",
    "np.save(\"mnist_train_scrambled_vectors.npy\", featTrainingVector)\n",
    "np.save(\"mnist_test_scrambled_vecotrs.npy\", featTestVector)"
   ]
  },
  {
   "cell_type": "markdown",
   "metadata": {},
   "source": [
    "Im nächsten Schritt wird das Aufbrechen der Bilder in einen Vector rückgängig gemacht, wobei die Reihenfolge weiterhin randomisiert ist."
   ]
  },
  {
   "cell_type": "code",
   "execution_count": 27,
   "metadata": {},
   "outputs": [],
   "source": [
    "scrambledImages = np.zeros((60000, 28, 28))\n",
    "for i in range(60000):\n",
    "    scrambledImages[i,:,:] = featTrainingVector[i,:].reshape((28,28))\n",
    "np.save(\"mnist_train_scrambled_images.npy\", scrambledImages)\n",
    "scrambledImages = np.zeros((10000, 28, 28))\n",
    "for i in range(10000):\n",
    "    scrambledImages[i,:,:] = featTestVector[i,:].reshape((28,28))\n",
    "np.save(\"mnist_train_scrambled_images.npy\", scrambledImages)"
   ]
  },
  {
   "cell_type": "markdown",
   "metadata": {},
   "source": [
    "## _CIFAR-10 Dataset_\n",
    "Nochmal das gleiche von Oben. (in unübersichtlich)"
   ]
  },
  {
   "cell_type": "code",
   "execution_count": 28,
   "metadata": {},
   "outputs": [
    {
     "name": "stdout",
     "output_type": "stream",
     "text": [
      "Downloading data from https://www.cs.toronto.edu/~kriz/cifar-10-python.tar.gz\n",
      "170500096/170498071 [==============================] - 29s 0us/step\n",
      "170508288/170498071 [==============================] - 29s 0us/step\n"
     ]
    }
   ],
   "source": [
    "import numpy as np\n",
    "import keras\n",
    "from keras.datasets import cifar10\n",
    "\n",
    "(xtrn, ytrn), (xtst, ytst) = cifar10.load_data()\n",
    "idx = np.argsort(np.random.random(ytrn.shape[0]))\n",
    "xtrn = xtrn[idx]\n",
    "ytrn = ytrn[idx]\n",
    "idx = np.argsort(np.random.random(ytst.shape[0]))\n",
    "xtst = xtst[idx]\n",
    "ytst = ytst[idx]\n",
    "\n",
    "np.save(\"cifar10_train_images.npy\", xtrn)\n",
    "np.save(\"cifar10_train_labels.npy\", ytrn)\n",
    "np.save(\"cifar10_test_images.npy\", xtst)\n",
    "np.save(\"cifar10_test_labels.npy\", ytst)\n",
    "\n",
    "xtrnv = xtrn.reshape((50000, 32*32*3))\n",
    "xtstv = xtst.reshape((10000, 32*32*3))\n",
    "np.save(\"cifar10_train_vectors.npy\", xtrnv)\n",
    "np.save(\"cifar10_test_vectors.npy\", xtstv)"
   ]
  }
 ],
 "metadata": {
  "interpreter": {
   "hash": "954dccb827d9d98fab9d6ab8aad07d294372f56b78c45815942292b1b2f720a0"
  },
  "kernelspec": {
   "display_name": "Python 3.8.8 64-bit ('base': conda)",
   "language": "python",
   "name": "python3"
  },
  "language_info": {
   "codemirror_mode": {
    "name": "ipython",
    "version": 3
   },
   "file_extension": ".py",
   "mimetype": "text/x-python",
   "name": "python",
   "nbconvert_exporter": "python",
   "pygments_lexer": "ipython3",
   "version": "3.8.8"
  },
  "orig_nbformat": 4
 },
 "nbformat": 4,
 "nbformat_minor": 2
}
