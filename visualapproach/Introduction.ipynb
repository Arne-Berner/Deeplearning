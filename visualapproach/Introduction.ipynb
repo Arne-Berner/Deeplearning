{
 "cells": [
  {
   "cell_type": "markdown",
   "metadata": {},
   "source": [
    "### Expert Systems\n",
    "Es werden Experten in ihrem Fach beobachtet und Regeln für deren Verhalten aufgestellt. Diese Regeln werden der Maschine übergeben und somit kann die Maschine (mehr oder minder) die Aufgabe ausführen.\n",
    "Das Problem dabei ist, dass die meisten Verhalte komplexer sind, als wenige Regeln darstellen können und es spielen mehr Aspekte mit rein, als wir denken würden. \n",
    "![seven](../Images/seven.png \"seven\")  \n",
    "### Supervised Learning\n",
    "Wenn die Daten schonmal Label haben, sowas wie \"Katze\" für ein Bild, und ein Netzwerk damit lernt, nennt man es supervised learning. Dadurch können dann im Endeffekt aussagen über die Bilder außerhalb des Trainingssets getroffen werden. Manchmal mit mehr \"Confidence\" und manchmal mit weniger.\n",
    "### Unsupervised Learning\n",
    "Beim unsupervised learning werden aus gemischten Datensets, einzelne Merkmalgruppen herausgearbeitet und danach sortiert. Diese Gruppen heißen cluster, deswegen wird das Verfahren auch clustering genannt.\n",
    "### Reinforced Learning\n",
    "Das reinforced learning bekommt bestimmte Zielwerte mit, die es zu maximieren oder minimieren gilt. So kann ein mit mehreren Stationen in möglichst kurzer Strecke zurückgelegt werden, oder es soll im Spiel Go gewonnen werden.\n",
    "### Deep Learning\n",
    "Deep Learning hat seinen Namen, weil es über mehrere Ebenen \"tief\" sein kann. Ein Netzwerk besteht hier aus Layern, Nodes, Weights, Inputs und Outputs.\n",
    "![neural](../Images/neuralnetwork.png \"neural\")  \\\n",
    "Es können nur die Inputs und weights verändert werden. Der Rest gibt bei einem Startwert immer den selben Endwert. Das heißt beim ersten durchlauf, wird das Netzwerk eine nonsense antwort geben. Die Weights werden aber mit jedem Durchlauf aufs neue leicht verändert, sodass das Netzwerk immer besser die Daten erkennt."
   ]
  },
  {
   "cell_type": "markdown",
   "metadata": {},
   "source": [
    "### Random Variables\n",
    "__Random Variables__ sind Funktionen und keine Variablen im herkömmlichen Sinn. Sie nimmt eine Warscheinlichkeitsverteilung als Input und gibt einen einzigen Output.\n",
    "__Probability Mass Functions__ oder pmfs (auch discrete probability distributions) sind Wahrscheinlichkeitsverteilungen mit diskreten werten.\n",
    "Das Gegenstück sind __continuous probability distributions__ (cpd) oder probability density function (pdf).\n",
    "### Gängige Verteilungen\n",
    "Die __Uniform Distribution__ hat einen Bereich der 1 ergibt. Alle anderen Bereiche ergeben 0. Die häufigsten Bereiche fü reine uniform distribution ist 0 bis 1 oder -1 bis 1.\\\n",
    "![uniform](../Images/uniform.png) \\\n",
    "Die __Normal Distribution__ auch gaussian distribution oder Glockenkurve genannt ist glatt und hat keine harten Sprünge wie die uniforme Verteilung. \\\n",
    "![bellcurve](../Images/bellcurve.png)\\\n",
    "Normalerweise gehen die Glockenkurven seiten bis ins infinitisimal kleine, aber meistens wird ein Wert der klein genug ist, als 0 angenommen. \\ \n",
    "Die __Standartabweichung__ wird durch $\\sigma$ angegeben und sind ca. 68% der Gesamtfläche unter der Glockenkurve. Ist die Kurve steil, so ist $\\sigma$ klein, ist sie flach ist $\\sigma$ gross.\\\n",
    "![sigma](../Images/standartabw.png)\\\n",
    "Die nächste Standartabweichung würde 95% umschließen und die dritte 99.7%. \n"
   ]
  },
  {
   "cell_type": "markdown",
   "metadata": {},
   "source": []
  },
  {
   "cell_type": "code",
   "execution_count": null,
   "metadata": {},
   "outputs": [],
   "source": []
  },
  {
   "cell_type": "code",
   "execution_count": null,
   "metadata": {},
   "outputs": [],
   "source": []
  }
 ],
 "metadata": {
  "language_info": {
   "name": "python"
  },
  "orig_nbformat": 4
 },
 "nbformat": 4,
 "nbformat_minor": 2
}
