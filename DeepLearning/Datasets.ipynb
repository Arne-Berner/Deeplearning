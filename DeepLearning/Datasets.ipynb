{
 "cells": [
  {
   "cell_type": "markdown",
   "metadata": {},
   "source": [
    "### Ein randomisiertes fake Datenset erstellen"
   ]
  },
  {
   "cell_type": "code",
   "execution_count": 21,
   "metadata": {},
   "outputs": [],
   "source": [
    "import numpy as np\n",
    "from sklearn.datasets import make_classification\n",
    "x,y = make_classification(n_samples=10000, weights= (0.9,0.1))"
   ]
  },
  {
   "cell_type": "code",
   "execution_count": 22,
   "metadata": {},
   "outputs": [
    {
     "data": {
      "text/plain": [
       "(10000, 20)"
      ]
     },
     "execution_count": 22,
     "metadata": {},
     "output_type": "execute_result"
    }
   ],
   "source": [
    "x.shape"
   ]
  },
  {
   "cell_type": "code",
   "execution_count": 23,
   "metadata": {},
   "outputs": [
    {
     "data": {
      "text/plain": [
       "8957"
      ]
     },
     "execution_count": 23,
     "metadata": {},
     "output_type": "execute_result"
    }
   ],
   "source": [
    "len(np.where(y == 0)[0])"
   ]
  },
  {
   "cell_type": "code",
   "execution_count": 24,
   "metadata": {},
   "outputs": [
    {
     "data": {
      "text/plain": [
       "1043"
      ]
     },
     "execution_count": 24,
     "metadata": {},
     "output_type": "execute_result"
    }
   ],
   "source": [
    "len(np.where(y == 1)[0])"
   ]
  },
  {
   "cell_type": "markdown",
   "metadata": {},
   "source": []
  },
  {
   "cell_type": "code",
   "execution_count": 25,
   "metadata": {},
   "outputs": [],
   "source": [
    "a,b = make_classification(n_samples = 10000, weights=(0.9,0.1))\n",
    "idx = np.where(b == 0)[0]\n",
    "# alle samples, die den wert 0 haben werden mit allen values (20) in x0 gespeichert\n",
    "x0 = a[idx, :]\n",
    "y0 = b[idx]\n",
    "idx = np.where(b == 1)[0]\n",
    "x1 = a[idx, :]\n",
    "y1 = b[idx]"
   ]
  },
  {
   "cell_type": "markdown",
   "metadata": {},
   "source": [
    "### Die Reihenfolge der Samples randomisieren (_die geschickte Variante_)\n",
    "Wir können durch separieren von Label und Wert (x,y) sie nicht \"in einem\" sortieren.  \n",
    "Also sortieren wir einen Vector von gleicher Form und nehmen die Indizes für die Label und Werte. "
   ]
  },
  {
   "cell_type": "code",
   "execution_count": 26,
   "metadata": {},
   "outputs": [],
   "source": [
    "idx = np.argsort(np.random.random(y0.shape))\n",
    "y0 = y0[idx]\n",
    "x0 = x0[idx]\n",
    "idx = np.argsort(np.random.random(y1.shape))\n",
    "y1 = y1[idx]\n",
    "x1 = x1[idx]"
   ]
  },
  {
   "cell_type": "markdown",
   "metadata": {},
   "source": [
    "90% der samples werden jetzt fürs Training extrahiert.  \n",
    "AnzahlTraining ist dabei die Anzahl an samples in x0 und x1 die 90% ergeben sollen."
   ]
  },
  {
   "cell_type": "code",
   "execution_count": 27,
   "metadata": {},
   "outputs": [],
   "source": [
    "anzahlTraining0 = int(0.9*x0.shape[0])\n",
    "anzahlTraining1 = int(0.9*x1.shape[0])\n",
    "xTraining = np.zeros((int(anzahlTraining0 + anzahlTraining1), 20)) \n",
    "yTraining = np.zeros(int(anzahlTraining0 + anzahlTraining1))\n",
    "xTraining[:anzahlTraining0] = x0[:anzahlTraining0]\n",
    "xTraining[anzahlTraining0:] = x1[:anzahlTraining1]\n",
    "yTraining[:anzahlTraining0] = y0[:anzahlTraining0]\n",
    "yTraining[anzahlTraining0:] = y1[:anzahlTraining1]"
   ]
  },
  {
   "cell_type": "code",
   "execution_count": 28,
   "metadata": {},
   "outputs": [],
   "source": [
    "restAnzahl0 = int(x0.shape[0]-anzahlTraining0)\n",
    "restAnzahl1 = int(x1.shape[0]-anzahlTraining1)\n",
    "anzahlValueFloored0 = restAnzahl0//2\n",
    "anzahlValueFloored1 = restAnzahl1//2\n",
    "anzahlValue0 = restAnzahl0//2\n",
    "anzahlValue1 = restAnzahl1//2\n",
    "xValue = np.zeros((int(anzahlValue0 + anzahlValue1), 20))\n",
    "yValue = np.zeros((int(anzahlValue0 + anzahlValue1)))\n",
    "xValue[:anzahlValueFloored0] = x0[anzahlTraining0:(anzahlTraining0 + anzahlValueFloored0)]\n",
    "xValue[anzahlValueFloored0:] = x1[anzahlTraining1:(anzahlTraining1 + anzahlValueFloored1)]\n",
    "yValue[:anzahlValueFloored0] = y0[anzahlTraining0:(anzahlTraining0 + anzahlValueFloored0)]\n",
    "yValue[anzahlValueFloored0:] = y1[anzahlTraining1:(anzahlTraining1 + anzahlValueFloored1)]\n"
   ]
  },
  {
   "cell_type": "code",
   "execution_count": 29,
   "metadata": {},
   "outputs": [],
   "source": [
    "xTest = np.concatenate((x0[(anzahlTraining0 + anzahlValueFloored0):],x1[(anzahlTraining1+anzahlValueFloored1):]))\n",
    "yTest = np.concatenate((y0[(anzahlTraining0 + anzahlValueFloored0):],y1[(anzahlTraining1+anzahlValueFloored1):]))"
   ]
  },
  {
   "cell_type": "markdown",
   "metadata": {},
   "source": [
    "### Die Reihenfolge der Samples randomisieren (_die einfache Variante_)\n",
    "Wenn das Datenset groß genug ist, dann kann man es auch ohne vorsortieren partitionieren.  \n",
    "10000 Samples sollten groß genug sein.  \n",
    "Hier werden also 10000 Samples erstellt und dann mit dem Trick von oben sortiert."
   ]
  },
  {
   "cell_type": "code",
   "execution_count": 30,
   "metadata": {},
   "outputs": [],
   "source": [
    "x, y = make_classification(n_samples = 10000, weights = (0.9, 0.1))\n",
    "idx = np.argsort(np.random.random(y.shape[0]))\n",
    "x = x[idx]\n",
    "y = y[idx]"
   ]
  },
  {
   "cell_type": "code",
   "execution_count": 31,
   "metadata": {},
   "outputs": [],
   "source": [
    "anzahlTraining = int(0.9*y.shape[0])\n",
    "anzahlValue = int(0.05*y.shape[0])"
   ]
  },
  {
   "cell_type": "code",
   "execution_count": 32,
   "metadata": {},
   "outputs": [],
   "source": [
    "xTraining = x[:anzahlTraining]\n",
    "yTraining = y[:anzahlTraining]\n",
    "xValue = x[anzahlTraining: (anzahlTraining + anzahlValue)]\n",
    "yValue = y[anzahlTraining: (anzahlTraining + anzahlValue)]\n",
    "xTest = x[(anzahlTraining + anzahlValue)]\n"
   ]
  },
  {
   "cell_type": "markdown",
   "metadata": {},
   "source": [
    "## Zahlen vs Visualisierung _eine vorab-Analyse der Daten_\n",
    "### Die Daten in Zahlen\n",
    "Der _mean_ oder auch Mittelwert, ist der Wert, der sich durch teilen der Summe der Elemente durch die Elemente ergibt.  \n",
    "Std steht hier nicht für sexually transmitted diseases, sondern für die _Standard Deviation_ - die Standart Abweichung im Deutschen - , sie berechnet sich durch die durchschnittliche Differenz aus den Datenwerten und dem Mittelwert. Sie gibt die Stauchung der Glockenkurve an.  \n",
    "Der _standard error_ oder Standart Fehler gibt den Unterschied zwischen unserem Mittelwert und dem Mittelwert der _Parent distribution_, also des Hauptdatensets.  \n",
    "Der _Median_ ergibt sich, wenn man alle Elemente der Größe nach sortiert und den Wert in der Mitte auswählt.  \n",
    "Die Extrema _Minimum und Maximum_ sind schlichtweg die größten und kleinsten Werte des Datensatzes."
   ]
  },
  {
   "cell_type": "code",
   "execution_count": 33,
   "metadata": {},
   "outputs": [
    {
     "name": "stdout",
     "output_type": "stream",
     "text": [
      "mean = 2.3519\n",
      "std = 1.3128\n",
      "SE = 0.3390\n",
      "median = 2.3190\n",
      "min = 0.0705\n",
      "max = 4.8231\n"
     ]
    }
   ],
   "source": [
    "import numpy as np\n",
    "\n",
    "f = [0.3408,3.0150,4.3465,2.1271,2.7561,\n",
    "    2.7887,4.8231,0.0705,3.9897,0.9804,\n",
    "    2.3944,2.0085,1.7821,1.5362,2.3190]\n",
    "f = np.array(f)\n",
    "print(\"mean = %0.4f\"  %f.mean())\n",
    "print(\"std = %0.4f\"  %f.std())\n",
    "print(\"SE = %0.4f\"  %(f.std() / np.sqrt(f.shape[0])))\n",
    "print(\"median = %0.4f\"  %(np.median(f)))\n",
    "print(\"min = %0.4f\"  %f.min())\n",
    "print(\"max = %0.4f\" %f.max())"
   ]
  },
  {
   "cell_type": "markdown",
   "metadata": {},
   "source": [
    "### Die Daten in Graphen"
   ]
  },
  {
   "cell_type": "code",
   "execution_count": 34,
   "metadata": {},
   "outputs": [
    {
     "data": {
      "image/png": "[encoded data removed]",
      "text/plain": [
       "<Figure size 432x288 with 1 Axes>"
      ]
     },
     "metadata": {
      "needs_background": "light"
     },
     "output_type": "display_data"
    }
   ],
   "source": [
    "import matplotlib.pyplot as plt\n",
    "\n",
    "d = [[ 0.6930, -1.1259, -1.5318,  0.9525,  1.1824],\n",
    "    [ 0.5464, -0.0120,  0.5051, -0.0192, -0.1141],\n",
    "    [ 0.8912,  1.3826,  1.5193, -1.1996, -1.1403],\n",
    "    [ 1.1690,  0.4970, -0.1712, -0.5340,  0.3047],\n",
    "    [-0.9221, -0.1071,  0.3079, -0.3885, -0.4753],\n",
    "    [ 1.5699, -1.4767,  0.3327,  1.4714,  1.1807],\n",
    "    [-0.3479,  0.4775,  1.8823, -1.4031, -0.7396],\n",
    "    [ 0.0887, -0.4353, -1.7377, -1.2349,  1.7456],\n",
    "    [ 1.0775,  0.9524,  1.2475,  0.7291, -1.1207],\n",
    "    [-1.4657,  0.9250, -1.0446,  0.4262, -1.0279],\n",
    "    [-1.3332,  1.4501,  0.0323,  1.1102, -0.8966],\n",
    "    [ 0.3005, -1.4500, -0.2615,  1.7033, -0.2505],\n",
    "    [-1.4377, -0.2472, -0.4340, -0.7032,  0.3362],\n",
    "    [ 0.3016, -1.5527, -0.6213,  0.1780, -0.7517],\n",
    "    [-1.1315,  0.7225, -0.0250, -1.0881,  1.7674]]\n",
    "\n",
    "d = np.array(d)\n",
    "plt.boxplot(d)\n",
    "plt.show()"
   ]
  },
  {
   "cell_type": "markdown",
   "metadata": {},
   "source": [
    "## Erklärung des Boxplots\n",
    "![alt text](boxplot_explained.png \"Das ist der mittlere\")\n",
    "Der Strich Q1 ist die obere Grenze des untersten Viertels. Also ist alles unterhalb von Q1 die niedrigsten 25%.  \n",
    "Q2 ist der Median und beschreibt den Mittelpunkt der Daten.  \n",
    "Q3 ist die obere Version von Q1. Oberhalb sind die höchsten 25% der Daten.  \n",
    "Die abstrakten Striche ganz oben und unten sind die _whiskers_. Sie berechnen sich aus den Formeln Q1 - 1.5 * IQR und Q3 + 1.5 * IQR.  \n",
    "Darüber und Drunter sind nurnoch die Außreißer (_outliers_) anzufinden."
   ]
  }
 ],
 "metadata": {
  "interpreter": {
   "hash": "954dccb827d9d98fab9d6ab8aad07d294372f56b78c45815942292b1b2f720a0"
  },
  "kernelspec": {
   "display_name": "Python 3.8.8 64-bit ('base': conda)",
   "language": "python",
   "name": "python3"
  },
  "language_info": {
   "codemirror_mode": {
    "name": "ipython",
    "version": 3
   },
   "file_extension": ".py",
   "mimetype": "text/x-python",
   "name": "python",
   "nbconvert_exporter": "python",
   "pygments_lexer": "ipython3",
   "version": "3.8.8"
  },
  "orig_nbformat": 4
 },
 "nbformat": 4,
 "nbformat_minor": 2
}
